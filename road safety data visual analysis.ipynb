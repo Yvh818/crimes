{
 "cells": [
  {
   "cell_type": "markdown",
   "metadata": {
    "jupyter": {
     "source_hidden": true
    }
   },
   "source": [
    "Road Safety Data\n",
    "\n",
    "In this notebook, we will explore the Road Safety Data (https://data.gov.uk/dataset/cb7ae6f0-4be6-4935-9277-47e5ce24a11f/road-safety-data) where detailed road safety is reported and recorded in this dataset for year 2021, using the STATS19 accident reporting form. Given that the Department for Transport has only made datasets available to the public, stakeholders and researchers for the first time since 2018, it shows that research on road safety is lacking. Therefore the aim of this analysis is to provide further insights to the study."
   ]
  },
  {
   "cell_type": "markdown",
   "metadata": {},
   "source": [
    "### Data Preparation\n",
    "<a id='1. Data Prepartion'></a>"
   ]
  },
  {
   "cell_type": "code",
   "execution_count": 91,
   "metadata": {
    "execution": {
     "iopub.execute_input": "2021-12-05T13:34:43.156313Z",
     "iopub.status.busy": "2021-12-05T13:34:43.155695Z",
     "iopub.status.idle": "2021-12-05T13:34:43.894896Z",
     "shell.execute_reply": "2021-12-05T13:34:43.893920Z",
     "shell.execute_reply.started": "2021-12-05T13:34:43.156261Z"
    }
   },
   "outputs": [],
   "source": [
    "import pandas as pd\n",
    "import numpy as np\n",
    "import glob\n",
    "\n",
    "import matplotlib.pyplot as plt\n",
    "import seaborn as sns\n",
    "\n",
    "import warnings\n",
    "warnings.filterwarnings(\"ignore\")"
   ]
  },
  {
   "cell_type": "markdown",
   "metadata": {},
   "source": [
    "**Accidents Data**"
   ]
  },
  {
   "cell_type": "code",
   "execution_count": 3,
   "metadata": {
    "execution": {
     "iopub.execute_input": "2021-12-05T13:34:43.901022Z",
     "iopub.status.busy": "2021-12-05T13:34:43.899087Z",
     "iopub.status.idle": "2021-12-05T13:35:01.726642Z",
     "shell.execute_reply": "2021-12-05T13:35:01.725759Z",
     "shell.execute_reply.started": "2021-12-05T13:34:43.900946Z"
    }
   },
   "outputs": [
    {
     "name": "stdout",
     "output_type": "stream",
     "text": [
      "Records: 42358 \n",
      "Columns: 37\n"
     ]
    },
    {
     "data": {
      "text/html": [
       "<div>\n",
       "<style scoped>\n",
       "    .dataframe tbody tr th:only-of-type {\n",
       "        vertical-align: middle;\n",
       "    }\n",
       "\n",
       "    .dataframe tbody tr th {\n",
       "        vertical-align: top;\n",
       "    }\n",
       "\n",
       "    .dataframe thead th {\n",
       "        text-align: right;\n",
       "    }\n",
       "</style>\n",
       "<table border=\"1\" class=\"dataframe\">\n",
       "  <thead>\n",
       "    <tr style=\"text-align: right;\">\n",
       "      <th></th>\n",
       "      <th>status</th>\n",
       "      <th>accident_index</th>\n",
       "      <th>accident_year</th>\n",
       "      <th>accident_reference</th>\n",
       "      <th>location_easting_osgr</th>\n",
       "      <th>location_northing_osgr</th>\n",
       "      <th>longitude</th>\n",
       "      <th>latitude</th>\n",
       "      <th>police_force</th>\n",
       "      <th>accident_severity</th>\n",
       "      <th>...</th>\n",
       "      <th>pedestrian_crossing_physical_facilities</th>\n",
       "      <th>light_conditions</th>\n",
       "      <th>weather_conditions</th>\n",
       "      <th>road_surface_conditions</th>\n",
       "      <th>special_conditions_at_site</th>\n",
       "      <th>carriageway_hazards</th>\n",
       "      <th>urban_or_rural_area</th>\n",
       "      <th>did_police_officer_attend_scene_of_accident</th>\n",
       "      <th>trunk_road_flag</th>\n",
       "      <th>lsoa_of_accident_location</th>\n",
       "    </tr>\n",
       "  </thead>\n",
       "  <tbody>\n",
       "    <tr>\n",
       "      <th>0</th>\n",
       "      <td>Unvalidated</td>\n",
       "      <td>2021010287148</td>\n",
       "      <td>2021</td>\n",
       "      <td>010287148</td>\n",
       "      <td>521508.0</td>\n",
       "      <td>193079.0</td>\n",
       "      <td>NaN</td>\n",
       "      <td>NaN</td>\n",
       "      <td>1</td>\n",
       "      <td>3</td>\n",
       "      <td>...</td>\n",
       "      <td>0</td>\n",
       "      <td>4</td>\n",
       "      <td>7</td>\n",
       "      <td>4</td>\n",
       "      <td>1</td>\n",
       "      <td>0</td>\n",
       "      <td>-1</td>\n",
       "      <td>1</td>\n",
       "      <td>-1</td>\n",
       "      <td>-1</td>\n",
       "    </tr>\n",
       "    <tr>\n",
       "      <th>1</th>\n",
       "      <td>Unvalidated</td>\n",
       "      <td>2021010287149</td>\n",
       "      <td>2021</td>\n",
       "      <td>010287149</td>\n",
       "      <td>535379.0</td>\n",
       "      <td>180783.0</td>\n",
       "      <td>NaN</td>\n",
       "      <td>NaN</td>\n",
       "      <td>1</td>\n",
       "      <td>2</td>\n",
       "      <td>...</td>\n",
       "      <td>5</td>\n",
       "      <td>4</td>\n",
       "      <td>1</td>\n",
       "      <td>1</td>\n",
       "      <td>0</td>\n",
       "      <td>0</td>\n",
       "      <td>-1</td>\n",
       "      <td>1</td>\n",
       "      <td>-1</td>\n",
       "      <td>-1</td>\n",
       "    </tr>\n",
       "    <tr>\n",
       "      <th>2</th>\n",
       "      <td>Unvalidated</td>\n",
       "      <td>2021010287151</td>\n",
       "      <td>2021</td>\n",
       "      <td>010287151</td>\n",
       "      <td>529701.0</td>\n",
       "      <td>170398.0</td>\n",
       "      <td>NaN</td>\n",
       "      <td>NaN</td>\n",
       "      <td>1</td>\n",
       "      <td>2</td>\n",
       "      <td>...</td>\n",
       "      <td>5</td>\n",
       "      <td>4</td>\n",
       "      <td>1</td>\n",
       "      <td>1</td>\n",
       "      <td>0</td>\n",
       "      <td>0</td>\n",
       "      <td>-1</td>\n",
       "      <td>1</td>\n",
       "      <td>-1</td>\n",
       "      <td>-1</td>\n",
       "    </tr>\n",
       "    <tr>\n",
       "      <th>3</th>\n",
       "      <td>Unvalidated</td>\n",
       "      <td>2021010287155</td>\n",
       "      <td>2021</td>\n",
       "      <td>010287155</td>\n",
       "      <td>525312.0</td>\n",
       "      <td>178385.0</td>\n",
       "      <td>NaN</td>\n",
       "      <td>NaN</td>\n",
       "      <td>1</td>\n",
       "      <td>1</td>\n",
       "      <td>...</td>\n",
       "      <td>4</td>\n",
       "      <td>4</td>\n",
       "      <td>1</td>\n",
       "      <td>1</td>\n",
       "      <td>0</td>\n",
       "      <td>0</td>\n",
       "      <td>-1</td>\n",
       "      <td>1</td>\n",
       "      <td>-1</td>\n",
       "      <td>-1</td>\n",
       "    </tr>\n",
       "    <tr>\n",
       "      <th>4</th>\n",
       "      <td>Unvalidated</td>\n",
       "      <td>2021010287157</td>\n",
       "      <td>2021</td>\n",
       "      <td>010287157</td>\n",
       "      <td>512144.0</td>\n",
       "      <td>171526.0</td>\n",
       "      <td>NaN</td>\n",
       "      <td>NaN</td>\n",
       "      <td>1</td>\n",
       "      <td>3</td>\n",
       "      <td>...</td>\n",
       "      <td>0</td>\n",
       "      <td>4</td>\n",
       "      <td>1</td>\n",
       "      <td>1</td>\n",
       "      <td>0</td>\n",
       "      <td>0</td>\n",
       "      <td>-1</td>\n",
       "      <td>1</td>\n",
       "      <td>-1</td>\n",
       "      <td>-1</td>\n",
       "    </tr>\n",
       "  </tbody>\n",
       "</table>\n",
       "<p>5 rows × 37 columns</p>\n",
       "</div>"
      ],
      "text/plain": [
       "        status accident_index  accident_year accident_reference  \\\n",
       "0  Unvalidated  2021010287148           2021          010287148   \n",
       "1  Unvalidated  2021010287149           2021          010287149   \n",
       "2  Unvalidated  2021010287151           2021          010287151   \n",
       "3  Unvalidated  2021010287155           2021          010287155   \n",
       "4  Unvalidated  2021010287157           2021          010287157   \n",
       "\n",
       "   location_easting_osgr  location_northing_osgr  longitude  latitude  \\\n",
       "0               521508.0                193079.0        NaN       NaN   \n",
       "1               535379.0                180783.0        NaN       NaN   \n",
       "2               529701.0                170398.0        NaN       NaN   \n",
       "3               525312.0                178385.0        NaN       NaN   \n",
       "4               512144.0                171526.0        NaN       NaN   \n",
       "\n",
       "   police_force  accident_severity  ...  \\\n",
       "0             1                  3  ...   \n",
       "1             1                  2  ...   \n",
       "2             1                  2  ...   \n",
       "3             1                  1  ...   \n",
       "4             1                  3  ...   \n",
       "\n",
       "   pedestrian_crossing_physical_facilities  light_conditions  \\\n",
       "0                                        0                 4   \n",
       "1                                        5                 4   \n",
       "2                                        5                 4   \n",
       "3                                        4                 4   \n",
       "4                                        0                 4   \n",
       "\n",
       "  weather_conditions  road_surface_conditions special_conditions_at_site  \\\n",
       "0                  7                        4                          1   \n",
       "1                  1                        1                          0   \n",
       "2                  1                        1                          0   \n",
       "3                  1                        1                          0   \n",
       "4                  1                        1                          0   \n",
       "\n",
       "   carriageway_hazards urban_or_rural_area  \\\n",
       "0                    0                  -1   \n",
       "1                    0                  -1   \n",
       "2                    0                  -1   \n",
       "3                    0                  -1   \n",
       "4                    0                  -1   \n",
       "\n",
       "  did_police_officer_attend_scene_of_accident  trunk_road_flag  \\\n",
       "0                                           1               -1   \n",
       "1                                           1               -1   \n",
       "2                                           1               -1   \n",
       "3                                           1               -1   \n",
       "4                                           1               -1   \n",
       "\n",
       "   lsoa_of_accident_location  \n",
       "0                         -1  \n",
       "1                         -1  \n",
       "2                         -1  \n",
       "3                         -1  \n",
       "4                         -1  \n",
       "\n",
       "[5 rows x 37 columns]"
      ]
     },
     "execution_count": 3,
     "metadata": {},
     "output_type": "execute_result"
    }
   ],
   "source": [
    "accidents = pd.read_csv('https://data.dft.gov.uk/road-accidents-safety-data/dft-road-casualty-statistics-accident-provisional-mid-year-unvalidated-2021.csv')\n",
    "print('Records:', accidents.shape[0], '\\nColumns:', accidents.shape[1])\n",
    "accidents.head()"
   ]
  },
  {
   "cell_type": "code",
   "execution_count": 12,
   "metadata": {
    "execution": {
     "iopub.execute_input": "2021-12-05T13:35:01.728710Z",
     "iopub.status.busy": "2021-12-05T13:35:01.728101Z",
     "iopub.status.idle": "2021-12-05T13:35:01.732844Z",
     "shell.execute_reply": "2021-12-05T13:35:01.731869Z",
     "shell.execute_reply.started": "2021-12-05T13:35:01.728651Z"
    }
   },
   "outputs": [],
   "source": [
    "#accidents.info()"
   ]
  },
  {
   "cell_type": "markdown",
   "metadata": {},
   "source": [
    "#### Converting Datetime Column\n",
    "<a id='Converting Datetime Column'></a>"
   ]
  },
  {
   "cell_type": "code",
   "execution_count": 16,
   "metadata": {},
   "outputs": [
    {
     "name": "stdout",
     "output_type": "stream",
     "text": [
      "2021-01-01 00:00:00\n"
     ]
    }
   ],
   "source": [
    "import datetime as dt\n",
    "str = '01,01,2021'\n",
    "datetime_value = dt.datetime.strptime(str,'%d,%m,%Y')\n",
    "print(datetime_value) # prints: 2017-01-01 00:00:00"
   ]
  },
  {
   "cell_type": "code",
   "execution_count": 46,
   "metadata": {},
   "outputs": [],
   "source": [
    "accidents['date']= pd.to_datetime(accidents['date'], format=\"%d/%m/%Y\")"
   ]
  },
  {
   "cell_type": "code",
   "execution_count": 39,
   "metadata": {
    "execution": {
     "iopub.execute_input": "2021-12-05T13:35:18.537908Z",
     "iopub.status.busy": "2021-12-05T13:35:18.537563Z",
     "iopub.status.idle": "2021-12-05T13:35:18.657503Z",
     "shell.execute_reply": "2021-12-05T13:35:18.656535Z",
     "shell.execute_reply.started": "2021-12-05T13:35:18.537844Z"
    }
   },
   "outputs": [
    {
     "name": "stdout",
     "output_type": "stream",
     "text": [
      "<class 'pandas.core.frame.DataFrame'>\n",
      "Int64Index: 42358 entries, 0 to 42357\n",
      "Data columns (total 8 columns):\n",
      " #   Column                  Non-Null Count  Dtype  \n",
      "---  ------                  --------------  -----  \n",
      " 0   location_northing_osgr  41789 non-null  float64\n",
      " 1   longitude               0 non-null      float64\n",
      " 2   latitude                0 non-null      float64\n",
      " 3   police_force            42358 non-null  int64  \n",
      " 4   accident_severity       42358 non-null  int64  \n",
      " 5   number_of_vehicles      42358 non-null  int64  \n",
      " 6   number_of_casualties    42358 non-null  int64  \n",
      " 7   date                    42358 non-null  object \n",
      "dtypes: float64(3), int64(4), object(1)\n",
      "memory usage: 2.7+ MB\n"
     ]
    }
   ],
   "source": [
    "# check\n",
    "accidents.iloc[:, 5:13].info()"
   ]
  },
  {
   "cell_type": "code",
   "execution_count": 23,
   "metadata": {
    "execution": {
     "iopub.execute_input": "2021-12-05T13:35:18.659217Z",
     "iopub.status.busy": "2021-12-05T13:35:18.658890Z",
     "iopub.status.idle": "2021-12-05T13:35:21.428812Z",
     "shell.execute_reply": "2021-12-05T13:35:21.428158Z",
     "shell.execute_reply.started": "2021-12-05T13:35:18.659152Z"
    }
   },
   "outputs": [],
   "source": [
    "# slice first and second string from time column\n",
    "accidents['Hour'] = accidents['time'].str[0:2]\n",
    "\n",
    "# convert new column to numeric datetype\n",
    "accidents['Hour'] = pd.to_numeric(accidents['Hour'])\n",
    "\n",
    "# drop null values in our new column\n",
    "accidents = accidents.dropna(subset=['Hour'])\n",
    "\n",
    "# cast to integer values\n",
    "accidents['Hour'] = accidents['Hour'].astype('int')"
   ]
  },
  {
   "cell_type": "markdown",
   "metadata": {},
   "source": [
    "- Morning Rush from 5am to 10am\n",
    "- Office Hours from 10am to 3pm (or: 10:00 - 15:00)\n",
    "- Afternoon Rush from 3pm to 7pm (or: 15:00 - 19:00)\n",
    "- Evening from 7pm to 11pm (or: 19:00 - 23:00)\n",
    "- Night from 11pm to 5am (or: 23:00 - 05:00)"
   ]
  },
  {
   "cell_type": "code",
   "execution_count": 21,
   "metadata": {
    "execution": {
     "iopub.execute_input": "2021-12-05T13:35:21.430192Z",
     "iopub.status.busy": "2021-12-05T13:35:21.429772Z",
     "iopub.status.idle": "2021-12-05T13:35:21.434473Z",
     "shell.execute_reply": "2021-12-05T13:35:21.433903Z",
     "shell.execute_reply.started": "2021-12-05T13:35:21.430142Z"
    }
   },
   "outputs": [],
   "source": [
    "# define a function that turns the hours into daytime groups\n",
    "def when_was_it(hour):\n",
    "    if hour >= 5 and hour < 10:\n",
    "        return \"morning rush (5-10)\"\n",
    "    elif hour >= 10 and hour < 15:\n",
    "        return \"office hours (10-15)\"\n",
    "    elif hour >= 15 and hour < 19:\n",
    "        return \"afternoon rush (15-19)\"\n",
    "    elif hour >= 19 and hour < 23:\n",
    "        return \"evening (19-23)\"\n",
    "    else:\n",
    "        return \"night (23-5)\""
   ]
  },
  {
   "cell_type": "code",
   "execution_count": 24,
   "metadata": {
    "execution": {
     "iopub.execute_input": "2021-12-05T13:35:21.435888Z",
     "iopub.status.busy": "2021-12-05T13:35:21.435446Z",
     "iopub.status.idle": "2021-12-05T13:35:23.409285Z",
     "shell.execute_reply": "2021-12-05T13:35:23.408398Z",
     "shell.execute_reply.started": "2021-12-05T13:35:21.435831Z"
    }
   },
   "outputs": [
    {
     "data": {
      "text/html": [
       "<div>\n",
       "<style scoped>\n",
       "    .dataframe tbody tr th:only-of-type {\n",
       "        vertical-align: middle;\n",
       "    }\n",
       "\n",
       "    .dataframe tbody tr th {\n",
       "        vertical-align: top;\n",
       "    }\n",
       "\n",
       "    .dataframe thead th {\n",
       "        text-align: right;\n",
       "    }\n",
       "</style>\n",
       "<table border=\"1\" class=\"dataframe\">\n",
       "  <thead>\n",
       "    <tr style=\"text-align: right;\">\n",
       "      <th></th>\n",
       "      <th>time</th>\n",
       "      <th>Hour</th>\n",
       "      <th>Daytime</th>\n",
       "    </tr>\n",
       "  </thead>\n",
       "  <tbody>\n",
       "    <tr>\n",
       "      <th>0</th>\n",
       "      <td>02:05</td>\n",
       "      <td>2</td>\n",
       "      <td>night (23-5)</td>\n",
       "    </tr>\n",
       "    <tr>\n",
       "      <th>1</th>\n",
       "      <td>03:30</td>\n",
       "      <td>3</td>\n",
       "      <td>night (23-5)</td>\n",
       "    </tr>\n",
       "    <tr>\n",
       "      <th>2</th>\n",
       "      <td>04:07</td>\n",
       "      <td>4</td>\n",
       "      <td>night (23-5)</td>\n",
       "    </tr>\n",
       "    <tr>\n",
       "      <th>3</th>\n",
       "      <td>04:26</td>\n",
       "      <td>4</td>\n",
       "      <td>night (23-5)</td>\n",
       "    </tr>\n",
       "    <tr>\n",
       "      <th>4</th>\n",
       "      <td>03:10</td>\n",
       "      <td>3</td>\n",
       "      <td>night (23-5)</td>\n",
       "    </tr>\n",
       "    <tr>\n",
       "      <th>5</th>\n",
       "      <td>04:10</td>\n",
       "      <td>4</td>\n",
       "      <td>night (23-5)</td>\n",
       "    </tr>\n",
       "    <tr>\n",
       "      <th>6</th>\n",
       "      <td>09:33</td>\n",
       "      <td>9</td>\n",
       "      <td>morning rush (5-10)</td>\n",
       "    </tr>\n",
       "    <tr>\n",
       "      <th>7</th>\n",
       "      <td>09:30</td>\n",
       "      <td>9</td>\n",
       "      <td>morning rush (5-10)</td>\n",
       "    </tr>\n",
       "  </tbody>\n",
       "</table>\n",
       "</div>"
      ],
      "text/plain": [
       "    time  Hour              Daytime\n",
       "0  02:05     2         night (23-5)\n",
       "1  03:30     3         night (23-5)\n",
       "2  04:07     4         night (23-5)\n",
       "3  04:26     4         night (23-5)\n",
       "4  03:10     3         night (23-5)\n",
       "5  04:10     4         night (23-5)\n",
       "6  09:33     9  morning rush (5-10)\n",
       "7  09:30     9  morning rush (5-10)"
      ]
     },
     "execution_count": 24,
     "metadata": {},
     "output_type": "execute_result"
    }
   ],
   "source": [
    "# apply thus function to our temporary hour column\n",
    "accidents['Daytime'] = accidents['Hour'].apply(when_was_it)\n",
    "accidents[['time', 'Hour', 'Daytime']].head(8)"
   ]
  },
  {
   "cell_type": "code",
   "execution_count": 25,
   "metadata": {
    "execution": {
     "iopub.execute_input": "2021-12-05T13:35:23.410785Z",
     "iopub.status.busy": "2021-12-05T13:35:23.410526Z",
     "iopub.status.idle": "2021-12-05T13:35:23.414965Z",
     "shell.execute_reply": "2021-12-05T13:35:23.414049Z",
     "shell.execute_reply.started": "2021-12-05T13:35:23.410736Z"
    }
   },
   "outputs": [],
   "source": [
    "# drop old time column and temporary hour column\n",
    "#accidents = accidents.drop(columns=['Time', 'Hour'])"
   ]
  },
  {
   "cell_type": "markdown",
   "metadata": {},
   "source": [
    "#### Handling Missing Values\n",
    "<a id=' Handling Missing Values'></a>"
   ]
  },
  {
   "cell_type": "code",
   "execution_count": 26,
   "metadata": {
    "execution": {
     "iopub.execute_input": "2021-12-05T13:35:23.416816Z",
     "iopub.status.busy": "2021-12-05T13:35:23.416471Z",
     "iopub.status.idle": "2021-12-05T13:35:26.312864Z",
     "shell.execute_reply": "2021-12-05T13:35:26.311917Z",
     "shell.execute_reply.started": "2021-12-05T13:35:23.416748Z"
    }
   },
   "outputs": [
    {
     "name": "stdout",
     "output_type": "stream",
     "text": [
      "Proportion of Missing Values in Accidents Table: 2.027 %\n"
     ]
    }
   ],
   "source": [
    "print('Proportion of Missing Values in Accidents Table:', \n",
    "      round(accidents.isna().sum().sum()/len(accidents),3), '%')"
   ]
  },
  {
   "cell_type": "code",
   "execution_count": 27,
   "metadata": {
    "execution": {
     "iopub.execute_input": "2021-12-05T13:35:26.314103Z",
     "iopub.status.busy": "2021-12-05T13:35:26.313885Z",
     "iopub.status.idle": "2021-12-05T13:35:26.317800Z",
     "shell.execute_reply": "2021-12-05T13:35:26.317100Z",
     "shell.execute_reply.started": "2021-12-05T13:35:26.314062Z"
    }
   },
   "outputs": [],
   "source": [
    "#accidents.isna().sum()"
   ]
  },
  {
   "cell_type": "markdown",
   "metadata": {},
   "source": [
    "\n",
    "###  Exploratory Data Analysis (EDA)\n",
    "<a id='Exploratory Data Analysis (EDA)'></a>"
   ]
  },
  {
   "cell_type": "markdown",
   "metadata": {},
   "source": [
    "***Overall view of car accidents in year 2021***"
   ]
  },
  {
   "cell_type": "code",
   "execution_count": 92,
   "metadata": {
    "execution": {
     "iopub.execute_input": "2021-12-05T13:35:28.645027Z",
     "iopub.status.busy": "2021-12-05T13:35:28.644820Z",
     "iopub.status.idle": "2021-12-05T13:35:36.861287Z",
     "shell.execute_reply": "2021-12-05T13:35:36.860532Z",
     "shell.execute_reply.started": "2021-12-05T13:35:28.644989Z"
    }
   },
   "outputs": [
    {
     "data": {
      "image/png": "[encoded data removed]",
      "text/plain": [
       "<Figure size 1080x432 with 1 Axes>"
      ]
     },
     "metadata": {},
     "output_type": "display_data"
    }
   ],
   "source": [
    "# prepare plot\n",
    "sns.set_style('white')\n",
    "fig, ax = plt.subplots(figsize=(15,6))\n",
    "\n",
    "# plot\n",
    "accidents.set_index('date').resample('M').size().plot(label='Total per Month', color='grey', ax=ax)\n",
    "\n",
    "\n",
    "ax.set_title('Accidents per Month', fontsize=14, fontweight='bold')\n",
    "ax.set(ylabel='Total Count\\n', xlabel='')\n",
    "ax.legend(bbox_to_anchor=(1.1, 1.1), frameon=False)\n",
    "\n",
    "# remove all spines\n",
    "sns.despine(ax=ax, top=True, right=True, left=True, bottom=False);"
   ]
  },
  {
   "cell_type": "markdown",
   "metadata": {},
   "source": [
    "***How many accidents occur everyday?***"
   ]
  },
  {
   "cell_type": "code",
   "execution_count": 93,
   "metadata": {
    "execution": {
     "iopub.execute_input": "2021-12-05T13:35:37.355485Z",
     "iopub.status.busy": "2021-12-05T13:35:37.354930Z",
     "iopub.status.idle": "2021-12-05T13:35:41.171349Z",
     "shell.execute_reply": "2021-12-05T13:35:41.170441Z",
     "shell.execute_reply.started": "2021-12-05T13:35:37.355404Z"
    }
   },
   "outputs": [
    {
     "data": {
      "text/html": [
       "<div>\n",
       "<style scoped>\n",
       "    .dataframe tbody tr th:only-of-type {\n",
       "        vertical-align: middle;\n",
       "    }\n",
       "\n",
       "    .dataframe tbody tr th {\n",
       "        vertical-align: top;\n",
       "    }\n",
       "\n",
       "    .dataframe thead th {\n",
       "        text-align: right;\n",
       "    }\n",
       "</style>\n",
       "<table border=\"1\" class=\"dataframe\">\n",
       "  <thead>\n",
       "    <tr style=\"text-align: right;\">\n",
       "      <th></th>\n",
       "      <th>Average_Accidents</th>\n",
       "    </tr>\n",
       "    <tr>\n",
       "      <th>Weekday</th>\n",
       "      <th></th>\n",
       "    </tr>\n",
       "  </thead>\n",
       "  <tbody>\n",
       "    <tr>\n",
       "      <th>Friday</th>\n",
       "      <td>273.730769</td>\n",
       "    </tr>\n",
       "    <tr>\n",
       "      <th>Monday</th>\n",
       "      <td>226.500000</td>\n",
       "    </tr>\n",
       "    <tr>\n",
       "      <th>Saturday</th>\n",
       "      <td>229.423077</td>\n",
       "    </tr>\n",
       "    <tr>\n",
       "      <th>Sunday</th>\n",
       "      <td>183.846154</td>\n",
       "    </tr>\n",
       "    <tr>\n",
       "      <th>Thursday</th>\n",
       "      <td>247.360000</td>\n",
       "    </tr>\n",
       "    <tr>\n",
       "      <th>Tuesday</th>\n",
       "      <td>237.923077</td>\n",
       "    </tr>\n",
       "    <tr>\n",
       "      <th>Wednesday</th>\n",
       "      <td>239.884615</td>\n",
       "    </tr>\n",
       "  </tbody>\n",
       "</table>\n",
       "</div>"
      ],
      "text/plain": [
       "           Average_Accidents\n",
       "Weekday                     \n",
       "Friday            273.730769\n",
       "Monday            226.500000\n",
       "Saturday          229.423077\n",
       "Sunday            183.846154\n",
       "Thursday          247.360000\n",
       "Tuesday           237.923077\n",
       "Wednesday         239.884615"
      ]
     },
     "execution_count": 93,
     "metadata": {},
     "output_type": "execute_result"
    }
   ],
   "source": [
    "weekday_counts = pd.DataFrame(accidents.set_index('date').resample('1d')['accident_index'].size().reset_index())\n",
    "weekday_counts.columns = ['date', 'Count']\n",
    "#weekday_counts\n",
    "\n",
    "weekday = weekday_counts['date'].dt.strftime(\"%A\")\n",
    "#weekday\n",
    "\n",
    "weekday_averages = pd.DataFrame(weekday_counts.groupby(weekday)['Count'].mean().reset_index())\n",
    "weekday_averages.columns = ['Weekday', 'Average_Accidents']\n",
    "weekday_averages.set_index('Weekday', inplace=True)\n",
    "weekday_averages"
   ]
  },
  {
   "cell_type": "markdown",
   "metadata": {},
   "source": [
    "- Plotting this dataframe:"
   ]
  },
  {
   "cell_type": "code",
   "execution_count": 65,
   "metadata": {
    "execution": {
     "iopub.execute_input": "2021-12-05T13:35:41.172909Z",
     "iopub.status.busy": "2021-12-05T13:35:41.172664Z",
     "iopub.status.idle": "2021-12-05T13:35:41.504766Z",
     "shell.execute_reply": "2021-12-05T13:35:41.503740Z",
     "shell.execute_reply.started": "2021-12-05T13:35:41.172861Z"
    }
   },
   "outputs": [
    {
     "data": {
      "image/png": "[encoded data removed]",
      "text/plain": [
       "<Figure size 720x360 with 1 Axes>"
      ]
     },
     "metadata": {},
     "output_type": "display_data"
    }
   ],
   "source": [
    "# reorder the weekdays beginning with Monday (backwards because of printing behavior!)\n",
    "days = ['Sunday', 'Saturday', 'Friday', 'Thursday', 'Wednesday', 'Tuesday', 'Monday']\n",
    "\n",
    "# prepare plot\n",
    "sns.set_style('white')\n",
    "fig, ax = plt.subplots(figsize=(10,5))\n",
    "colors=['lightsteelblue', 'lightsteelblue', 'navy', 'lightsteelblue', \n",
    "        'lightsteelblue', 'lightsteelblue', 'lightsteelblue']\n",
    "\n",
    "# plot\n",
    "weekday_averages.reindex(days).plot(kind='barh', ax=ax, color=[colors])\n",
    "ax.set_title('\\nAverage Accidents per Weekday\\n', fontsize=14, fontweight='bold')\n",
    "ax.set(xlabel='\\nAverage Number', ylabel='')\n",
    "ax.legend('')\n",
    "\n",
    "# remove all spines\n",
    "sns.despine(ax=ax, top=True, right=True, left=True, bottom=True);"
   ]
  },
  {
   "cell_type": "markdown",
   "metadata": {},
   "source": [
    "- Preparing another dataframe by weekday and year:"
   ]
  },
  {
   "cell_type": "code",
   "execution_count": 68,
   "metadata": {
    "execution": {
     "iopub.execute_input": "2021-12-05T13:35:41.506811Z",
     "iopub.status.busy": "2021-12-05T13:35:41.506222Z",
     "iopub.status.idle": "2021-12-05T13:35:42.330973Z",
     "shell.execute_reply": "2021-12-05T13:35:42.329981Z",
     "shell.execute_reply.started": "2021-12-05T13:35:41.506747Z"
    }
   },
   "outputs": [
    {
     "data": {
      "text/html": [
       "<div>\n",
       "<style scoped>\n",
       "    .dataframe tbody tr th:only-of-type {\n",
       "        vertical-align: middle;\n",
       "    }\n",
       "\n",
       "    .dataframe tbody tr th {\n",
       "        vertical-align: top;\n",
       "    }\n",
       "\n",
       "    .dataframe thead th {\n",
       "        text-align: right;\n",
       "    }\n",
       "</style>\n",
       "<table border=\"1\" class=\"dataframe\">\n",
       "  <thead>\n",
       "    <tr style=\"text-align: right;\">\n",
       "      <th>Weekday</th>\n",
       "      <th>Sunday</th>\n",
       "      <th>Saturday</th>\n",
       "      <th>Friday</th>\n",
       "      <th>Thursday</th>\n",
       "      <th>Wednesday</th>\n",
       "      <th>Tuesday</th>\n",
       "      <th>Monday</th>\n",
       "    </tr>\n",
       "    <tr>\n",
       "      <th>Year</th>\n",
       "      <th></th>\n",
       "      <th></th>\n",
       "      <th></th>\n",
       "      <th></th>\n",
       "      <th></th>\n",
       "      <th></th>\n",
       "      <th></th>\n",
       "    </tr>\n",
       "  </thead>\n",
       "  <tbody>\n",
       "    <tr>\n",
       "      <th>2021</th>\n",
       "      <td>4780</td>\n",
       "      <td>5965</td>\n",
       "      <td>7117</td>\n",
       "      <td>6184</td>\n",
       "      <td>6237</td>\n",
       "      <td>6186</td>\n",
       "      <td>5889</td>\n",
       "    </tr>\n",
       "  </tbody>\n",
       "</table>\n",
       "</div>"
      ],
      "text/plain": [
       "Weekday  Sunday  Saturday  Friday  Thursday  Wednesday  Tuesday  Monday\n",
       "Year                                                                   \n",
       "2021       4780      5965    7117      6184       6237     6186    5889"
      ]
     },
     "execution_count": 68,
     "metadata": {},
     "output_type": "execute_result"
    }
   ],
   "source": [
    "weekday = accidents['date'].dt.strftime(\"%A\")\n",
    "year    = accidents['date'].dt.year\n",
    "\n",
    "accident_table = accidents.groupby([year, weekday]).size()\n",
    "accident_table = accident_table.rename_axis(['Year', 'Weekday'])\\\n",
    "                               .unstack('Weekday')\\\n",
    "                               .reindex(columns=days)\n",
    "accident_table"
   ]
  },
  {
   "cell_type": "markdown",
   "metadata": {},
   "source": [
    "- Plotting this second dataframe:"
   ]
  },
  {
   "cell_type": "code",
   "execution_count": 69,
   "metadata": {
    "execution": {
     "iopub.execute_input": "2021-12-05T13:35:42.332703Z",
     "iopub.status.busy": "2021-12-05T13:35:42.332405Z",
     "iopub.status.idle": "2021-12-05T13:35:42.931913Z",
     "shell.execute_reply": "2021-12-05T13:35:42.930768Z",
     "shell.execute_reply.started": "2021-12-05T13:35:42.332652Z"
    }
   },
   "outputs": [
    {
     "data": {
      "image/png": "[encoded data removed]",
      "text/plain": [
       "<Figure size 720x432 with 2 Axes>"
      ]
     },
     "metadata": {},
     "output_type": "display_data"
    }
   ],
   "source": [
    "plt.figure(figsize=(10,6))\n",
    "sns.heatmap(accident_table, cmap='Reds')\n",
    "plt.title('\\nAccidents by Years and Weekdays\\n', fontsize=14, fontweight='bold')\n",
    "plt.xlabel('')\n",
    "plt.ylabel('');"
   ]
  },
  {
   "cell_type": "markdown",
   "metadata": {},
   "source": [
    "***How are accidents related to weather conditions?***"
   ]
  },
  {
   "cell_type": "code",
   "execution_count": 72,
   "metadata": {
    "execution": {
     "iopub.execute_input": "2021-12-05T13:35:42.933783Z",
     "iopub.status.busy": "2021-12-05T13:35:42.933283Z",
     "iopub.status.idle": "2021-12-05T13:35:43.182886Z",
     "shell.execute_reply": "2021-12-05T13:35:43.182181Z",
     "shell.execute_reply.started": "2021-12-05T13:35:42.933728Z"
    }
   },
   "outputs": [
    {
     "data": {
      "text/plain": [
       "1    0.807451\n",
       "2    0.097951\n",
       "8    0.033052\n",
       "9    0.023962\n",
       "3    0.011757\n",
       "4    0.010458\n",
       "5    0.010411\n",
       "7    0.003612\n",
       "6    0.001346\n",
       "Name: weather_conditions, dtype: float64"
      ]
     },
     "execution_count": 72,
     "metadata": {},
     "output_type": "execute_result"
    }
   ],
   "source": [
    "accidents.weather_conditions.value_counts(normalize=True)"
   ]
  },
  {
   "cell_type": "markdown",
   "metadata": {},
   "source": [
    "*If  `Weather_Condition` is \"fine\" (=1),  accidents are likely to occur*"
   ]
  },
  {
   "cell_type": "markdown",
   "metadata": {},
   "source": [
    "***How are accidents distributed throughout the day?***"
   ]
  },
  {
   "cell_type": "code",
   "execution_count": 84,
   "metadata": {
    "execution": {
     "iopub.execute_input": "2021-12-05T13:35:47.436629Z",
     "iopub.status.busy": "2021-12-05T13:35:47.436351Z",
     "iopub.status.idle": "2021-12-05T13:35:47.884014Z",
     "shell.execute_reply": "2021-12-05T13:35:47.882915Z",
     "shell.execute_reply.started": "2021-12-05T13:35:47.436579Z"
    }
   },
   "outputs": [
    {
     "data": {
      "image/png": "[encoded data removed]",
      "text/plain": [
       "<Figure size 720x432 with 1 Axes>"
      ]
     },
     "metadata": {},
     "output_type": "display_data"
    }
   ],
   "source": [
    "# prepare plot\n",
    "sns.set_style('white')\n",
    "fig, ax = plt.subplots(figsize=(10,6))\n",
    "\n",
    "# plot\n",
    "accidents.Hour.hist(bins=24, ax=ax, color='lightsteelblue')\n",
    "ax.set_title('\\nAccidents depending by Time\\n', fontsize=14, fontweight='bold')\n",
    "ax.set(xlabel='Hour of the Day', ylabel='Total Count of Accidents')\n",
    "\n",
    "# remove all spines\n",
    "sns.despine(top=True, right=True, left=True, bottom=True);"
   ]
  },
  {
   "cell_type": "markdown",
   "metadata": {},
   "source": [
    "***How are accidents distributed throughout the daytime?***"
   ]
  },
  {
   "cell_type": "code",
   "execution_count": 85,
   "metadata": {
    "execution": {
     "iopub.execute_input": "2021-12-05T13:35:47.885268Z",
     "iopub.status.busy": "2021-12-05T13:35:47.885051Z",
     "iopub.status.idle": "2021-12-05T13:35:48.375141Z",
     "shell.execute_reply": "2021-12-05T13:35:48.373876Z",
     "shell.execute_reply.started": "2021-12-05T13:35:47.885226Z"
    }
   },
   "outputs": [
    {
     "data": {
      "image/png": "[encoded data removed]",
      "text/plain": [
       "<Figure size 720x360 with 1 Axes>"
      ]
     },
     "metadata": {},
     "output_type": "display_data"
    }
   ],
   "source": [
    "# prepare dataframe\n",
    "order = ['night (23-5)', 'evening (19-23)', 'afternoon rush (15-19)', 'office hours (10-15)', 'morning rush (5-10)']\n",
    "df_sub = accidents.groupby('Daytime').size().reindex(order)\n",
    "\n",
    "# prepare barplot\n",
    "fig, ax = plt.subplots(figsize=(10, 5))\n",
    "colors = ['lightsteelblue', 'lightsteelblue', 'navy', 'lightsteelblue', 'lightsteelblue']\n",
    "\n",
    "# plot\n",
    "df_sub.plot(kind='barh', ax=ax, color=colors)\n",
    "ax.set_title('\\nAccidents depending by Daytime\\n', fontsize=14, fontweight='bold')\n",
    "ax.set(xlabel='\\nTotal Count of Accidents', ylabel='')\n",
    "\n",
    "# remove all spines\n",
    "sns.despine(top=True, right=True, left=True, bottom=True);"
   ]
  }
 ],
 "metadata": {
  "kernelspec": {
   "display_name": "Python 3",
   "language": "python",
   "name": "python3"
  },
  "language_info": {
   "codemirror_mode": {
    "name": "ipython",
    "version": 3
   },
   "file_extension": ".py",
   "mimetype": "text/x-python",
   "name": "python",
   "nbconvert_exporter": "python",
   "pygments_lexer": "ipython3",
   "version": "3.7.6"
  }
 },
 "nbformat": 4,
 "nbformat_minor": 4
}
